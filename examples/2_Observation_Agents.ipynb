{
 "cells": [
  {
   "cell_type": "code",
   "execution_count": 1,
   "metadata": {},
   "outputs": [
    {
     "data": {
      "text/plain": [
       "<function jyquickhelper.helper_in_notebook.add_notebook_menu(menu_id='my_id_menu_nb', raw=False, format='html', header=None, first_level=2, last_level=4, keep_item=None)>"
      ]
     },
     "execution_count": 1,
     "metadata": {},
     "output_type": "execute_result"
    }
   ],
   "source": [
    "import os\n",
    "import sys\n",
    "import grid2op\n",
    "res = None\n",
    "try:\n",
    "    from jyquickhelper import add_notebook_menu\n",
    "    res = add_notebook_menu\n",
    "except NoduleNotFoundError:\n",
    "     print(\"Impossible to automatically add a menu / table of content to this notebook.\\nYou can download \\\"jyquickhelper\\\" package with: \\n\\\"pip install jyquickhelper\\\"\")\n",
    "res"
   ]
  },
  {
   "cell_type": "code",
   "execution_count": 2,
   "metadata": {},
   "outputs": [
    {
     "name": "stderr",
     "output_type": "stream",
     "text": [
      "D:\\virtualenvironment\\L2PRN_grid2op\\lib\\site-packages\\grid2op\\MakeEnv\\Make.py:265: UserWarning: You are using a development environment. This environment is not intended for training agents. It might not be up to date and its primary use if for tests (hence the \"test=True\" you passed as argument). Use at your own risk.\n",
      "  warnings.warn(_MAKE_DEV_ENV_WARN)\n"
     ]
    }
   ],
   "source": [
    "#通过env.step()可获得对环境的观察，这里默认使用rte_case14_realistic环境\n",
    "env = grid2op.make(test=True)\n",
    "#为了执行一个时间步，需要一个动作，env.action_space()用于执行动作，这里的动作是do nothing，动作后可获得观察、奖励等信息\n",
    "do_nothing_act = env.action_space({})\n",
    "obs,reward,done,info = env.step(do_nothing_act)"
   ]
  },
  {
   "cell_type": "code",
   "execution_count": 6,
   "metadata": {},
   "outputs": [
    {
     "data": {
      "text/plain": [
       "(2019, 1, 1, 0, 10, 1)"
      ]
     },
     "execution_count": 6,
     "metadata": {},
     "output_type": "execute_result"
    }
   ],
   "source": [
    "#Grid2op包含不同种类的观察。例如有些观察可以是不完全的数据或者噪声数据。CompleteObservation给出电网全状态的观察，不带噪声，是默认的观察类型\n",
    "#一个观察包含了日历数据(例如一个观察的时间戳)\n",
    "obs.year, obs.month, obs.day, obs.hour_of_day, obs.minute_of_hour, obs.day_of_week"
   ]
  },
  {
   "cell_type": "code",
   "execution_count": 3,
   "metadata": {},
   "outputs": [
    {
     "name": "stdout",
     "output_type": "stream",
     "text": [
      "Number of generators of the powergrid: 5\n",
      "Number of loads of the powergrid: 11\n",
      "Number of powerline of the powergrid: 20\n",
      "Number of elements connected to each substations in the powergrid: [3 6 4 6 5 6 3 2 5 3 3 3 4 3]\n",
      "Total number of elements: 56\n"
     ]
    }
   ],
   "source": [
    "#电网的基本信息\n",
    "print(\"Number of generators of the powergrid: {}\".format(obs.n_gen))\n",
    "print(\"Number of loads of the powergrid: {}\".format(obs.n_load))\n",
    "print(\"Number of powerline of the powergrid: {}\".format(obs.n_line))\n",
    "print(\"Number of elements connected to each substations in the powergrid: {}\".format(obs.sub_info))\n",
    "print(\"Total number of elements: {}\".format(obs.dim_topo))"
   ]
  },
  {
   "cell_type": "code",
   "execution_count": 6,
   "metadata": {},
   "outputs": [
    {
     "name": "stdout",
     "output_type": "stream",
     "text": [
      "Generators active production: [81.6    81.1    12.9     0.     77.7201]\n",
      "Generators reactive production: [ 21.790668  70.214264  48.05804   24.508774 -16.541656]\n",
      "Generators voltage setpoint : [142.1      142.1       22.        13.200001 142.1     ]\n"
     ]
    }
   ],
   "source": [
    "#他还有发电机的信息(每个发电机可以看作是三维空间的一个点)\n",
    "print(\"Generators active production: {}\".format(obs.prod_p))\n",
    "print(\"Generators reactive production: {}\".format(obs.prod_q))\n",
    "print(\"Generators voltage setpoint : {}\".format(obs.prod_v))"
   ]
  },
  {
   "cell_type": "code",
   "execution_count": 18,
   "metadata": {},
   "outputs": [
    {
     "name": "stdout",
     "output_type": "stream",
     "text": [
      "Loads active consumption: [25.4 84.8 45.   6.8 12.7 28.8  9.5  3.4  5.6 11.9 15.4]\n",
      "Loads reactive consumption: [17.8 59.6 30.8  4.6  8.7 19.7  6.6  2.5  3.9  8.4 10.9]\n",
      "Loads voltage (voltage magnitude of the bus to which it is connected) : [142.1      142.1      138.70158  139.39479   22.        21.092138\n",
      "  21.08566   21.453533  21.569204  21.430758  20.69996 ]\n"
     ]
    }
   ],
   "source": [
    "#负载信息(负载同样可以看作是三维空间的一个点)\n",
    "print(\"Loads active consumption: {}\".format(obs.load_p))\n",
    "print(\"Loads reactive consumption: {}\".format(obs.load_q))\n",
    "print(\"Loads voltage (voltage magnitude of the bus to which it is connected) : {}\".format(obs.load_v))"
   ]
  },
  {
   "cell_type": "code",
   "execution_count": 4,
   "metadata": {},
   "outputs": [
    {
     "name": "stdout",
     "output_type": "stream",
     "text": [
      "Origin active flow: [ 3.9922398e+01  3.7797703e+01  2.1780769e+01  4.0161697e+01\n",
      "  3.3859901e+01  1.7860813e+01 -2.8052214e+01  9.7739801e+00\n",
      "  7.7287230e+00  1.8051615e+01  3.3593693e+00  7.7858996e+00\n",
      " -6.1440678e+00  2.0364611e+00  7.8760457e+00  2.5437183e+01\n",
      "  1.4508085e+01  3.5354317e+01 -2.2204460e-14 -2.5437183e+01]\n",
      "Origin reactive flow: [-15.334058    -1.2075976   -7.0024953    0.663526    -0.383117\n",
      "   7.329237    -2.9436882   10.462834     5.576318    14.927625\n",
      "  -0.85521334   4.0310593   -7.464343     1.4842943    7.410275\n",
      " -15.625636    -2.7032974   -5.641245   -23.634314    -5.573329  ]\n",
      "Origin current flow: [173.75766  153.64987   92.956    163.19867  137.5811    78.4405\n",
      " 117.409485 375.74683  250.10808  614.7267    94.88822  239.99174\n",
      " 264.71527   67.45319  291.3341   124.26482   61.42983  148.28416\n",
      " 918.84076  712.8031  ]\n",
      "Origin voltage (voltage magnitude to the bus to which the origin end is connected): [142.1      142.1      142.1      142.1      142.1      142.1\n",
      " 138.70158   22.        22.        22.        21.092138  21.092138\n",
      "  21.08566   21.569204  21.430758 138.70158  138.70158  139.39479\n",
      "  14.850535  21.092138]\n",
      "Extremity active flow: [-3.9602367e+01 -3.7068695e+01 -2.1560818e+01 -3.9274380e+01\n",
      " -3.3242977e+01 -1.7618677e+01  2.8157352e+01 -9.6130629e+00\n",
      " -7.6364613e+00 -1.7751646e+01 -3.3559325e+00 -7.6980476e+00\n",
      "  6.2130628e+00 -2.0243990e+00 -7.7019520e+00 -2.5437183e+01\n",
      " -1.4508085e+01 -3.5354317e+01  2.2648550e-14  2.5437183e+01]\n",
      "Extremity reactive flow: [ 10.712756    -0.90132874   3.285029    -1.4910296   -1.3327575\n",
      "  -8.036348     3.2753313  -10.125853    -5.3842945  -14.336893\n",
      "   0.86434317  -3.8441856    7.625853    -1.473381    -7.0558143\n",
      "  17.390247     3.8292       8.391265    24.508774     6.244066  ]\n",
      "Extremity current flow: [ 166.68697   153.57782    88.61224   163.59877   137.79755    80.60723\n",
      "  117.409485  375.74683   250.10808   614.7267     94.88822   239.99174\n",
      "  264.71527    67.45319   291.3341   1197.9484    410.72595   953.58575\n",
      " 1071.9808   1018.29016 ]\n",
      "Extremity voltage (voltage magnitude to the bus to which the origin end is connected): [142.1      139.39479  142.1      138.70158  139.39479  138.70158\n",
      " 139.39479   21.453533  21.569204  21.430758  21.08566   20.69996\n",
      "  21.453533  21.430758  20.69996   14.850535  21.092138  22.\n",
      "  13.200001  14.850535]\n"
     ]
    }
   ],
   "source": [
    "#输电线可以看成是一个8维空间中的点，包括有功潮流、无功潮流、电压幅值、电流潮流，每个值包含线路初始端和末端两个值。\n",
    "#比如，一条传输线连接两个端点A和B，则该线路的有功潮流有两个独立的值：从A到B的潮流(origin)和从B到A的潮流(extremity)。\n",
    "print(\"Origin active flow: {}\".format(obs.p_or))\n",
    "print(\"Origin reactive flow: {}\".format(obs.q_or))\n",
    "print(\"Origin current flow: {}\".format(obs.a_or))\n",
    "print(\"Origin voltage (voltage magnitude to the bus to which the origin end is connected): {}\".format(obs.v_or))\n",
    "print(\"Extremity active flow: {}\".format(obs.p_ex))\n",
    "print(\"Extremity reactive flow: {}\".format(obs.q_ex))\n",
    "print(\"Extremity current flow: {}\".format(obs.a_ex))\n",
    "print(\"Extremity voltage (voltage magnitude to the bus to which the origin end is connected): {}\".format(obs.v_ex))"
   ]
  },
  {
   "cell_type": "code",
   "execution_count": 9,
   "metadata": {},
   "outputs": [
    {
     "data": {
      "text/plain": [
       "array([0.45143566, 0.3991941 , 0.24462105, 0.42947018, 0.87631273,\n",
       "       0.20642236, 0.30897233, 0.34864962, 0.54149985, 0.7985534 ,\n",
       "       0.3521812 , 0.62351686, 0.34830958, 0.1775084 , 0.38333434,\n",
       "       0.32284945, 0.26599896, 0.86817706, 0.27006915, 0.20950978],\n",
       "      dtype=float32)"
      ]
     },
     "execution_count": 9,
     "metadata": {},
     "output_type": "execute_result"
    }
   ],
   "source": [
    "#另外一个输电线特征是ρ比率rho，就是每条输电线的电流潮流和温升极限之间的比值\n",
    "obs.rho"
   ]
  },
  {
   "cell_type": "code",
   "execution_count": 11,
   "metadata": {},
   "outputs": [
    {
     "data": {
      "text/plain": [
       "array([0, 0, 0, 0, 0, 0, 0, 0, 0, 0, 0, 0, 0, 0, 0, 0, 0, 0, 0, 0])"
      ]
     },
     "execution_count": 11,
     "metadata": {},
     "output_type": "execute_result"
    }
   ],
   "source": [
    "#每条输电线处于过载状态的时间步个数\n",
    "obs.timestep_overflow"
   ]
  },
  {
   "cell_type": "code",
   "execution_count": 12,
   "metadata": {},
   "outputs": [
    {
     "data": {
      "text/plain": [
       "array([ True,  True,  True,  True,  True,  True,  True,  True,  True,\n",
       "        True,  True,  True,  True,  True,  True,  True,  True,  True,\n",
       "        True,  True])"
      ]
     },
     "execution_count": 12,
     "metadata": {},
     "output_type": "execute_result"
    }
   ],
   "source": [
    "#每个输电线的状态：True代表连接，False代表断开\n",
    "obs.line_status"
   ]
  },
  {
   "cell_type": "code",
   "execution_count": 13,
   "metadata": {},
   "outputs": [
    {
     "data": {
      "text/plain": [
       "array([1, 1, 1, 1, 1, 1, 1, 1, 1, 1, 1, 1, 1, 1, 1, 1, 1, 1, 1, 1, 1, 1,\n",
       "       1, 1, 1, 1, 1, 1, 1, 1, 1, 1, 1, 1, 1, 1, 1, 1, 1, 1, 1, 1, 1, 1,\n",
       "       1, 1, 1, 1, 1, 1, 1, 1, 1, 1, 1, 1])"
      ]
     },
     "execution_count": 13,
     "metadata": {},
     "output_type": "execute_result"
    }
   ],
   "source": [
    "#每个元素(发电机、负载、输电线的一端)的拓扑向量连接在变电站的哪个bus上：1=bus 1，2=bus2，-1=断开\n",
    "#在grid2op中，每个物体可以被连接或断开在变电站的bus 1或者bus 2上\n",
    "\n",
    "obs.topo_vect  # the topology vector the each element (generator, load, each end of a powerline) to which the object\n",
    "# is connected: 1 = bus 1, 2 = bus 2"
   ]
  },
  {
   "cell_type": "code",
   "execution_count": 5,
   "metadata": {},
   "outputs": [
    {
     "data": {
      "text/plain": [
       "array([ 2.01900000e+03,  1.00000000e+00,  1.00000000e+00,  0.00000000e+00,\n",
       "        1.00000000e+01,  1.00000000e+00,  8.15999985e+01,  8.10999985e+01,\n",
       "        1.28999996e+01,  0.00000000e+00,  7.77201004e+01,  2.17906685e+01,\n",
       "        7.02142639e+01,  4.80580406e+01,  2.45087738e+01, -1.65416565e+01,\n",
       "        1.42100006e+02,  1.42100006e+02,  2.20000000e+01,  1.32000008e+01,\n",
       "        1.42100006e+02,  2.53999996e+01,  8.48000031e+01,  4.50000000e+01,\n",
       "        6.80000019e+00,  1.26999998e+01,  2.87999992e+01,  9.50000000e+00,\n",
       "        3.40000010e+00,  5.59999990e+00,  1.18999996e+01,  1.53999996e+01,\n",
       "        1.77999992e+01,  5.95999985e+01,  3.07999992e+01,  4.59999990e+00,\n",
       "        8.69999981e+00,  1.97000008e+01,  6.59999990e+00,  2.50000000e+00,\n",
       "        3.90000010e+00,  8.39999962e+00,  1.08999996e+01,  1.42100006e+02,\n",
       "        1.42100006e+02,  1.38701584e+02,  1.39394791e+02,  2.20000000e+01,\n",
       "        2.10921383e+01,  2.10856609e+01,  2.14535332e+01,  2.15692043e+01,\n",
       "        2.14307575e+01,  2.06999607e+01,  3.99223976e+01,  3.77977028e+01,\n",
       "        2.17807693e+01,  4.01616974e+01,  3.38599014e+01,  1.78608131e+01,\n",
       "       -2.80522137e+01,  9.77398014e+00,  7.72872305e+00,  1.80516148e+01,\n",
       "        3.35936928e+00,  7.78589964e+00, -6.14406776e+00,  2.03646111e+00,\n",
       "        7.87604570e+00,  2.54371834e+01,  1.45080853e+01,  3.53543167e+01,\n",
       "       -2.22044605e-14, -2.54371834e+01, -1.53340578e+01, -1.20759761e+00,\n",
       "       -7.00249529e+00,  6.63525999e-01, -3.83116990e-01,  7.32923698e+00,\n",
       "       -2.94368815e+00,  1.04628344e+01,  5.57631779e+00,  1.49276247e+01,\n",
       "       -8.55213344e-01,  4.03105927e+00, -7.46434307e+00,  1.48429430e+00,\n",
       "        7.41027498e+00, -1.56256361e+01, -2.70329738e+00, -5.64124489e+00,\n",
       "       -2.36343136e+01, -5.57332897e+00,  1.42100006e+02,  1.42100006e+02,\n",
       "        1.42100006e+02,  1.42100006e+02,  1.42100006e+02,  1.42100006e+02,\n",
       "        1.38701584e+02,  2.20000000e+01,  2.20000000e+01,  2.20000000e+01,\n",
       "        2.10921383e+01,  2.10921383e+01,  2.10856609e+01,  2.15692043e+01,\n",
       "        2.14307575e+01,  1.38701584e+02,  1.38701584e+02,  1.39394791e+02,\n",
       "        1.48505354e+01,  2.10921383e+01,  1.73757660e+02,  1.53649872e+02,\n",
       "        9.29560013e+01,  1.63198669e+02,  1.37581100e+02,  7.84404984e+01,\n",
       "        1.17409485e+02,  3.75746826e+02,  2.50108078e+02,  6.14726685e+02,\n",
       "        9.48882217e+01,  2.39991745e+02,  2.64715271e+02,  6.74531937e+01,\n",
       "        2.91334106e+02,  1.24264816e+02,  6.14298286e+01,  1.48284164e+02,\n",
       "        9.18840759e+02,  7.12803101e+02, -3.96023674e+01, -3.70686951e+01,\n",
       "       -2.15608177e+01, -3.92743797e+01, -3.32429771e+01, -1.76186771e+01,\n",
       "        2.81573524e+01, -9.61306286e+00, -7.63646126e+00, -1.77516460e+01,\n",
       "       -3.35593247e+00, -7.69804764e+00,  6.21306276e+00, -2.02439904e+00,\n",
       "       -7.70195198e+00, -2.54371834e+01, -1.45080853e+01, -3.53543167e+01,\n",
       "        2.26485497e-14,  2.54371834e+01,  1.07127562e+01, -9.01328743e-01,\n",
       "        3.28502893e+00, -1.49102962e+00, -1.33275747e+00, -8.03634834e+00,\n",
       "        3.27533126e+00, -1.01258526e+01, -5.38429451e+00, -1.43368931e+01,\n",
       "        8.64343166e-01, -3.84418559e+00,  7.62585306e+00, -1.47338104e+00,\n",
       "       -7.05581427e+00,  1.73902473e+01,  3.82920003e+00,  8.39126492e+00,\n",
       "        2.45087738e+01,  6.24406624e+00,  1.42100006e+02,  1.39394791e+02,\n",
       "        1.42100006e+02,  1.38701584e+02,  1.39394791e+02,  1.38701584e+02,\n",
       "        1.39394791e+02,  2.14535332e+01,  2.15692043e+01,  2.14307575e+01,\n",
       "        2.10856609e+01,  2.06999607e+01,  2.14535332e+01,  2.14307575e+01,\n",
       "        2.06999607e+01,  1.48505354e+01,  2.10921383e+01,  2.20000000e+01,\n",
       "        1.32000008e+01,  1.48505354e+01,  1.66686966e+02,  1.53577820e+02,\n",
       "        8.86122437e+01,  1.63598770e+02,  1.37797546e+02,  8.06072311e+01,\n",
       "        1.17409485e+02,  3.75746826e+02,  2.50108078e+02,  6.14726685e+02,\n",
       "        9.48882217e+01,  2.39991745e+02,  2.64715271e+02,  6.74531937e+01,\n",
       "        2.91334106e+02,  1.19794836e+03,  4.10725952e+02,  9.53585754e+02,\n",
       "        1.07198083e+03,  1.01829016e+03,  4.51435655e-01,  3.99194092e-01,\n",
       "        2.44621053e-01,  4.29470181e-01,  8.76312733e-01,  2.06422359e-01,\n",
       "        3.08972329e-01,  3.48649621e-01,  5.41499853e-01,  7.98553407e-01,\n",
       "        3.52181196e-01,  6.23516858e-01,  3.48309577e-01,  1.77508399e-01,\n",
       "        3.83334339e-01,  3.22849452e-01,  2.65998960e-01,  8.68177056e-01,\n",
       "        2.70069152e-01,  2.09509775e-01,  1.00000000e+00,  1.00000000e+00,\n",
       "        1.00000000e+00,  1.00000000e+00,  1.00000000e+00,  1.00000000e+00,\n",
       "        1.00000000e+00,  1.00000000e+00,  1.00000000e+00,  1.00000000e+00,\n",
       "        1.00000000e+00,  1.00000000e+00,  1.00000000e+00,  1.00000000e+00,\n",
       "        1.00000000e+00,  1.00000000e+00,  1.00000000e+00,  1.00000000e+00,\n",
       "        1.00000000e+00,  1.00000000e+00,  0.00000000e+00,  0.00000000e+00,\n",
       "        0.00000000e+00,  0.00000000e+00,  0.00000000e+00,  0.00000000e+00,\n",
       "        0.00000000e+00,  0.00000000e+00,  0.00000000e+00,  0.00000000e+00,\n",
       "        0.00000000e+00,  0.00000000e+00,  0.00000000e+00,  0.00000000e+00,\n",
       "        0.00000000e+00,  0.00000000e+00,  0.00000000e+00,  0.00000000e+00,\n",
       "        0.00000000e+00,  0.00000000e+00,  1.00000000e+00,  1.00000000e+00,\n",
       "        1.00000000e+00,  1.00000000e+00,  1.00000000e+00,  1.00000000e+00,\n",
       "        1.00000000e+00,  1.00000000e+00,  1.00000000e+00,  1.00000000e+00,\n",
       "        1.00000000e+00,  1.00000000e+00,  1.00000000e+00,  1.00000000e+00,\n",
       "        1.00000000e+00,  1.00000000e+00,  1.00000000e+00,  1.00000000e+00,\n",
       "        1.00000000e+00,  1.00000000e+00,  1.00000000e+00,  1.00000000e+00,\n",
       "        1.00000000e+00,  1.00000000e+00,  1.00000000e+00,  1.00000000e+00,\n",
       "        1.00000000e+00,  1.00000000e+00,  1.00000000e+00,  1.00000000e+00,\n",
       "        1.00000000e+00,  1.00000000e+00,  1.00000000e+00,  1.00000000e+00,\n",
       "        1.00000000e+00,  1.00000000e+00,  1.00000000e+00,  1.00000000e+00,\n",
       "        1.00000000e+00,  1.00000000e+00,  1.00000000e+00,  1.00000000e+00,\n",
       "        1.00000000e+00,  1.00000000e+00,  1.00000000e+00,  1.00000000e+00,\n",
       "        1.00000000e+00,  1.00000000e+00,  1.00000000e+00,  1.00000000e+00,\n",
       "        1.00000000e+00,  1.00000000e+00,  1.00000000e+00,  1.00000000e+00,\n",
       "        1.00000000e+00,  1.00000000e+00,  0.00000000e+00,  0.00000000e+00,\n",
       "        0.00000000e+00,  0.00000000e+00,  0.00000000e+00,  0.00000000e+00,\n",
       "        0.00000000e+00,  0.00000000e+00,  0.00000000e+00,  0.00000000e+00,\n",
       "        0.00000000e+00,  0.00000000e+00,  0.00000000e+00,  0.00000000e+00,\n",
       "        0.00000000e+00,  0.00000000e+00,  0.00000000e+00,  0.00000000e+00,\n",
       "        0.00000000e+00,  0.00000000e+00,  0.00000000e+00,  0.00000000e+00,\n",
       "        0.00000000e+00,  0.00000000e+00,  0.00000000e+00,  0.00000000e+00,\n",
       "        0.00000000e+00,  0.00000000e+00,  0.00000000e+00,  0.00000000e+00,\n",
       "        0.00000000e+00,  0.00000000e+00,  0.00000000e+00,  0.00000000e+00,\n",
       "       -1.00000000e+00, -1.00000000e+00, -1.00000000e+00, -1.00000000e+00,\n",
       "       -1.00000000e+00, -1.00000000e+00, -1.00000000e+00, -1.00000000e+00,\n",
       "       -1.00000000e+00, -1.00000000e+00, -1.00000000e+00, -1.00000000e+00,\n",
       "       -1.00000000e+00, -1.00000000e+00, -1.00000000e+00, -1.00000000e+00,\n",
       "       -1.00000000e+00, -1.00000000e+00, -1.00000000e+00, -1.00000000e+00,\n",
       "        0.00000000e+00,  0.00000000e+00,  0.00000000e+00,  0.00000000e+00,\n",
       "        0.00000000e+00,  0.00000000e+00,  0.00000000e+00,  0.00000000e+00,\n",
       "        0.00000000e+00,  0.00000000e+00,  0.00000000e+00,  0.00000000e+00,\n",
       "        0.00000000e+00,  0.00000000e+00,  0.00000000e+00,  0.00000000e+00,\n",
       "        0.00000000e+00,  0.00000000e+00,  0.00000000e+00,  0.00000000e+00,\n",
       "        0.00000000e+00,  0.00000000e+00,  0.00000000e+00,  0.00000000e+00,\n",
       "        0.00000000e+00,  0.00000000e+00,  0.00000000e+00,  0.00000000e+00,\n",
       "        0.00000000e+00,  0.00000000e+00], dtype=float32)"
      ]
     },
     "execution_count": 5,
     "metadata": {},
     "output_type": "execute_result"
    }
   ],
   "source": [
    "#一个观察也可以转换成numpy array，这样有助于与其他机器学习库的交互或者存储，但是可读性变差\n",
    "#这个函数会把上面所有提到的属性堆叠在一个numpy.float64向量中\n",
    "vector_representation_of_observation = obs.to_vect()\n",
    "vector_representation_of_observation"
   ]
  },
  {
   "cell_type": "code",
   "execution_count": 16,
   "metadata": {},
   "outputs": [],
   "source": [
    "#一个观察也可以被复制\n",
    "obs2 = obs.copy()"
   ]
  },
  {
   "cell_type": "code",
   "execution_count": 17,
   "metadata": {},
   "outputs": [
    {
     "name": "stdout",
     "output_type": "stream",
     "text": [
      "[nan nan nan nan nan]\n"
     ]
    }
   ],
   "source": [
    "#或者重制\n",
    "obs2.reset()\n",
    "print(obs2.prod_p)"
   ]
  },
  {
   "cell_type": "code",
   "execution_count": 19,
   "metadata": {},
   "outputs": [
    {
     "data": {
      "text/plain": [
       "array([81.6   , 81.1   , 12.9   ,  0.    , 77.7201], dtype=float32)"
      ]
     },
     "execution_count": 19,
     "metadata": {},
     "output_type": "execute_result"
    }
   ],
   "source": [
    "#或者从一个向量中加载\n",
    "obs2.from_vect(vector_representation_of_observation)\n",
    "obs2.prod_p"
   ]
  },
  {
   "cell_type": "code",
   "execution_count": 20,
   "metadata": {},
   "outputs": [
    {
     "data": {
      "text/plain": [
       "True"
      ]
     },
     "execution_count": 20,
     "metadata": {},
     "output_type": "execute_result"
    }
   ],
   "source": [
    "#还可判断两个观察值是否相等\n",
    "obs == obs2"
   ]
  },
  {
   "cell_type": "code",
   "execution_count": 6,
   "metadata": {},
   "outputs": [
    {
     "data": {
      "text/plain": [
       "array([[0., 1., 1., ..., 0., 0., 0.],\n",
       "       [1., 0., 1., ..., 0., 0., 0.],\n",
       "       [1., 1., 0., ..., 0., 0., 0.],\n",
       "       ...,\n",
       "       [0., 0., 0., ..., 0., 1., 1.],\n",
       "       [0., 0., 0., ..., 1., 0., 1.],\n",
       "       [0., 0., 0., ..., 1., 1., 0.]], dtype=float32)"
      ]
     },
     "execution_count": 6,
     "metadata": {},
     "output_type": "execute_result"
    }
   ],
   "source": [
    "#还有一类观察值，可以将拓扑变成矩阵，拓扑矩阵有两种格式\n",
    "#第一种式connectivity matrix，如果mat[i,j]=1，则表明矩阵中的元素连接在一个bus上，或者是一个输电线的两端\n",
    "obs.connectivity_matrix()"
   ]
  },
  {
   "cell_type": "code",
   "execution_count": 8,
   "metadata": {},
   "outputs": [
    {
     "data": {
      "text/plain": [
       "array([[1., 1., 0., 0., 1., 0., 0., 0., 0., 0., 0., 0., 0., 0.],\n",
       "       [1., 1., 1., 1., 1., 0., 0., 0., 0., 0., 0., 0., 0., 0.],\n",
       "       [0., 1., 1., 1., 0., 0., 0., 0., 0., 0., 0., 0., 0., 0.],\n",
       "       [0., 1., 1., 1., 1., 0., 1., 0., 1., 0., 0., 0., 0., 0.],\n",
       "       [1., 1., 0., 1., 1., 1., 0., 0., 0., 0., 0., 0., 0., 0.],\n",
       "       [0., 0., 0., 0., 1., 1., 0., 0., 0., 0., 1., 1., 1., 0.],\n",
       "       [0., 0., 0., 1., 0., 0., 1., 1., 1., 0., 0., 0., 0., 0.],\n",
       "       [0., 0., 0., 0., 0., 0., 1., 1., 0., 0., 0., 0., 0., 0.],\n",
       "       [0., 0., 0., 1., 0., 0., 1., 0., 1., 1., 0., 0., 0., 1.],\n",
       "       [0., 0., 0., 0., 0., 0., 0., 0., 1., 1., 1., 0., 0., 0.],\n",
       "       [0., 0., 0., 0., 0., 1., 0., 0., 0., 1., 1., 0., 0., 0.],\n",
       "       [0., 0., 0., 0., 0., 1., 0., 0., 0., 0., 0., 1., 1., 0.],\n",
       "       [0., 0., 0., 0., 0., 1., 0., 0., 0., 0., 0., 1., 1., 1.],\n",
       "       [0., 0., 0., 0., 0., 0., 0., 0., 1., 0., 0., 0., 1., 1.]],\n",
       "      dtype=float32)"
      ]
     },
     "execution_count": 8,
     "metadata": {},
     "output_type": "execute_result"
    }
   ],
   "source": [
    "#第二种式bus connectivity matrix，如果mat[i,j]=1，则表明矩阵中的至少有一个输电线连接了bus i和j\n",
    "obs.bus_connectivity_matrix()"
   ]
  },
  {
   "cell_type": "code",
   "execution_count": 9,
   "metadata": {},
   "outputs": [],
   "source": [
    "#与大部分的RL问题相反，这个框架增加了“仿真”功能去仿真可能的动作对电网的影响。这有助于计算RL设定的roll-out\n",
    "#仿真的方法基于预测数据(预测数据属于GridStateFromFileWithForecasts类)\n",
    "#simulate功能，给电网运行一个预设的动作，通过simulator来仿真潮流，返回预期的observation、reward、error和其他信息\n",
    "#simulate功能是grid2op与pypownet最主要的不同，在pypowent，仿真直接在environment中进行，可使agent直接访问environment未来的数据，这样\n",
    "#可能会突破RL框架，因为agent只需要知道environment目前的状态。\n",
    "#而在grid2op，目前仍然还是从environment目前的状态进行仿真。\n",
    "do_nothing_act = env.action_space()\n",
    "obs_sim,reward_sim,is_done_sim,info_sim = obs.simulate(do_nothing_act)"
   ]
  },
  {
   "cell_type": "code",
   "execution_count": 10,
   "metadata": {},
   "outputs": [
    {
     "data": {
      "text/plain": [
       "array([81.6   , 81.1   , 12.9   ,  0.    , 77.7201], dtype=float32)"
      ]
     },
     "execution_count": 10,
     "metadata": {},
     "output_type": "execute_result"
    }
   ],
   "source": [
    "obs.prod_p"
   ]
  },
  {
   "cell_type": "code",
   "execution_count": 11,
   "metadata": {},
   "outputs": [
    {
     "data": {
      "text/plain": [
       "array([81.5   , 79.7   , 12.9   ,  0.    , 79.5781], dtype=float32)"
      ]
     },
     "execution_count": 11,
     "metadata": {},
     "output_type": "execute_result"
    }
   ],
   "source": [
    "obs_sim.prod_p"
   ]
  },
  {
   "cell_type": "code",
   "execution_count": 7,
   "metadata": {},
   "outputs": [],
   "source": [
    "#这一部分是根据observation来创建agent\n",
    "#所有的agent必须来自grid2op.Agent类。Agents最主要的功能是act\n",
    "#总体来说，Agent会根据接收的reward和observation来选择下一步的动作，gri2op中有些预定义好的agents\n",
    "#Agent会选择下面4个动作之一：1 do nothing 2断开具有higher relative flows的输电线 3 重连断开的输电线 4 断开具有lower relative flows的输电线\n",
    "from grid2op.Agent import BaseAgent\n",
    "import numpy as np\n",
    "import pdb\n",
    "class MyAgent(BaseAgent):\n",
    "    def __init__(self,action_space):\n",
    "        #python required method to code\n",
    "        BaseAgent.__init__(self,action_space)\n",
    "        self.do_nothing = self.action_space({})\n",
    "        self.print_next = False\n",
    "    \n",
    "    def act(self,observation,reward,done=False):\n",
    "        i_max = np.argmax(observation.rho)\n",
    "        new_status_max = np.zeros(observation.rho.shape)\n",
    "        new_status_max[i_max] = -1\n",
    "        act_max = self.action_space({\"set_line_status\": new_status_max})\n",
    "        \n",
    "        i_min = np.argmin(observation.rho)\n",
    "        new_status_min = np.zeros(observation.rho.shape)\n",
    "        if observation.rho[i_min] > 0:\n",
    "            #代表所有的输电线处于连接状态，而i尝试断开这根线\n",
    "            new_status_min[i_min] = -1\n",
    "            act_min = self.action_space({\"set_line_status\":new_status_min})\n",
    "        else:\n",
    "            #至少有有一条输电线断开，i尝试重新连接它\n",
    "            new_status_min[i_min] = 1\n",
    "            act_min = self.action_space({\"set_line_status\":new_status_min,\"set_bus\":{\"line_or_id\":[(i_min,1)],\"line_ex_id\":[(i_min,1)]}})\n",
    "            \n",
    "        _, reward_sim_dn, *_ = observation.simulate(self.do_nothing)\n",
    "        _, reward_sim_max, *_ = observation.simulate(act_max)\n",
    "        _, reward_sim_min, *_ = observation.simulate(act_min)\n",
    "        \n",
    "        if reward_sim_dn >= reward_sim_max and reward_sim_dn >= reward_sim_min:\n",
    "            self.print_next = False\n",
    "            res = self.do_nothing\n",
    "        elif reward_sim_max >= reward_sim_min:\n",
    "            self.print_next = True\n",
    "            res = act_max\n",
    "            print(res)\n",
    "        else:\n",
    "            self.print_next = True\n",
    "            res = act_min\n",
    "            print(res)\n",
    "        return res"
   ]
  },
  {
   "cell_type": "code",
   "execution_count": 8,
   "metadata": {},
   "outputs": [
    {
     "name": "stdout",
     "output_type": "stream",
     "text": [
      "The results for DoNothing agent are:\n",
      "\tFor chronics with id 11076.7685546875\n",
      "\t\t - cumulative reward:11076.768555\n",
      "\t\t - number of time steps completed:10/10\n"
     ]
    }
   ],
   "source": [
    "#现在将这个Agent和Donothin agent在3个episodes上进行比较，通过使用L2RPNReward会使比较更有趣\n",
    "from grid2op.Runner import Runner\n",
    "from grid2op.Agent import DoNothingAgent\n",
    "from grid2op.Reward import L2RPNReward\n",
    "from grid2op.Chronics import GridStateFromFileWithForecasts\n",
    "\n",
    "max_iter = 10#为了让计算更快，我们只考虑50个时间步，而不是287个\n",
    "runner = Runner(**env.get_params_for_runner(),agentClass=DoNothingAgent)\n",
    "res = runner.run(nb_episode=1,max_iter=max_iter)\n",
    "\n",
    "print(\"The results for DoNothing agent are:\")\n",
    "for _,chron_name,cum_reward,nb_time_step,max_ts in res:\n",
    "    msg_tmp = \"\\tFor chronics with id {}\\n\".format(cum_reward)\n",
    "    msg_tmp += \"\\t\\t - cumulative reward:{:.6f}\\n\".format(cum_reward)\n",
    "    msg_tmp += \"\\t\\t - number of time steps completed:{:.0f}/{:.0f}\".format(nb_time_step,max_ts)\n",
    "    print(msg_tmp)"
   ]
  },
  {
   "cell_type": "code",
   "execution_count": 26,
   "metadata": {},
   "outputs": [
    {
     "name": "stdout",
     "output_type": "stream",
     "text": [
      "The results for the custom agent are:\n",
      "\tFor chronics with id 11076.7685546875\n",
      "\t\t - cumulative reward:11076.768555\n",
      "\t\t - number of time steps completed:10/10\n"
     ]
    }
   ],
   "source": [
    "#从结果看出两个agent得分相同，但是如果不限制episode长度是10的话，两个agent的得分将不同，关闭episode限制就是将max_iter=-1\n",
    "runner = Runner(**env.get_params_for_runner(),agentClass=MyAgent)\n",
    "res = runner.run(nb_episode=1,max_iter=max_iter)\n",
    "\n",
    "print(\"The results for the custom agent are:\")\n",
    "for _,chron_name,cum_reward,nb_time_step,max_ts in res:\n",
    "    msg_tmp = \"\\tFor chronics with id {}\\n\".format(cum_reward)\n",
    "    msg_tmp += \"\\t\\t - cumulative reward:{:.6f}\\n\".format(cum_reward)\n",
    "    msg_tmp += \"\\t\\t - number of time steps completed:{:.0f}/{:.0f}\".format(nb_time_step,max_ts)\n",
    "    print(msg_tmp)"
   ]
  },
  {
   "cell_type": "code",
   "execution_count": 9,
   "metadata": {},
   "outputs": [
    {
     "name": "stdout",
     "output_type": "stream",
     "text": [
      "The result for the PowerLineSwitch agent are:\n",
      "\tFor chronics with id 000\n",
      "\t\\ - cumulative reward:11076.778320\n",
      "\t\t - number of time steps completed:10/10\n"
     ]
    }
   ],
   "source": [
    "from grid2op.Agent import PowerLineSwitch\n",
    "runner = Runner(**env.get_params_for_runner(),agentClass=PowerLineSwitch)\n",
    "res = runner.run(nb_episode=1,max_iter=max_iter)\n",
    "\n",
    "print(\"The result for the PowerLineSwitch agent are:\")\n",
    "for _,chron_name,cum_reward,nb_time_step,max_ts in res:\n",
    "    msg_tmp = \"\\tFor chronics with id {}\\n\".format(chron_name)\n",
    "    msg_tmp += \"\\t\\ - cumulative reward:{:.06f}\\n\".format(cum_reward)\n",
    "    msg_tmp += \"\\t\\t - number of time steps completed:{:.0f}/{:.0f}\".format(nb_time_step,max_ts)\n",
    "    print(msg_tmp)"
   ]
  },
  {
   "cell_type": "code",
   "execution_count": null,
   "metadata": {},
   "outputs": [],
   "source": []
  }
 ],
 "metadata": {
  "kernelspec": {
   "display_name": "Python [conda env:L2PRN_grid2op]",
   "language": "python",
   "name": "conda-env-L2PRN_grid2op-py"
  },
  "language_info": {
   "codemirror_mode": {
    "name": "ipython",
    "version": 3
   },
   "file_extension": ".py",
   "mimetype": "text/x-python",
   "name": "python",
   "nbconvert_exporter": "python",
   "pygments_lexer": "ipython3",
   "version": "3.7.9"
  }
 },
 "nbformat": 4,
 "nbformat_minor": 4
}
